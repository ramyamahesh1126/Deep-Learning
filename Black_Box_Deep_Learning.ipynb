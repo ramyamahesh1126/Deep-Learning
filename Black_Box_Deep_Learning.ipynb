{
  "nbformat": 4,
  "nbformat_minor": 0,
  "metadata": {
    "colab": {
      "name": "Black Box Deep Learning.ipynb",
      "provenance": [],
      "machine_shape": "hm",
      "authorship_tag": "ABX9TyO+X/pezcF7o/5OmNDPX7B1",
      "include_colab_link": true
    },
    "kernelspec": {
      "name": "python3",
      "display_name": "Python 3"
    },
    "language_info": {
      "name": "python"
    },
    "accelerator": "GPU",
    "widgets": {
      "application/vnd.jupyter.widget-state+json": {
        "18b7753c535e4de4998546013c52307d": {
          "model_module": "@jupyter-widgets/controls",
          "model_name": "HBoxModel",
          "model_module_version": "1.5.0",
          "state": {
            "_view_name": "HBoxView",
            "_dom_classes": [],
            "_model_name": "HBoxModel",
            "_view_module": "@jupyter-widgets/controls",
            "_model_module_version": "1.5.0",
            "_view_count": null,
            "_view_module_version": "1.5.0",
            "box_style": "",
            "layout": "IPY_MODEL_65b0e801b288447eae5c4dd9da891f4b",
            "_model_module": "@jupyter-widgets/controls",
            "children": [
              "IPY_MODEL_8a73f8dbf0344a0da3f45b47ca5c8fca",
              "IPY_MODEL_bc6bd707729e470eaab392e3950befd5",
              "IPY_MODEL_974a793e1bbe45008999f8a117da8131"
            ]
          }
        },
        "65b0e801b288447eae5c4dd9da891f4b": {
          "model_module": "@jupyter-widgets/base",
          "model_name": "LayoutModel",
          "model_module_version": "1.2.0",
          "state": {
            "_view_name": "LayoutView",
            "grid_template_rows": null,
            "right": null,
            "justify_content": null,
            "_view_module": "@jupyter-widgets/base",
            "overflow": null,
            "_model_module_version": "1.2.0",
            "_view_count": null,
            "flex_flow": null,
            "width": null,
            "min_width": null,
            "border": null,
            "align_items": null,
            "bottom": null,
            "_model_module": "@jupyter-widgets/base",
            "top": null,
            "grid_column": null,
            "overflow_y": null,
            "overflow_x": null,
            "grid_auto_flow": null,
            "grid_area": null,
            "grid_template_columns": null,
            "flex": null,
            "_model_name": "LayoutModel",
            "justify_items": null,
            "grid_row": null,
            "max_height": null,
            "align_content": null,
            "visibility": null,
            "align_self": null,
            "height": null,
            "min_height": null,
            "padding": null,
            "grid_auto_rows": null,
            "grid_gap": null,
            "max_width": null,
            "order": null,
            "_view_module_version": "1.2.0",
            "grid_template_areas": null,
            "object_position": null,
            "object_fit": null,
            "grid_auto_columns": null,
            "margin": null,
            "display": null,
            "left": null
          }
        },
        "8a73f8dbf0344a0da3f45b47ca5c8fca": {
          "model_module": "@jupyter-widgets/controls",
          "model_name": "HTMLModel",
          "model_module_version": "1.5.0",
          "state": {
            "_view_name": "HTMLView",
            "style": "IPY_MODEL_2fbc581297274ac8986582f53ac021c0",
            "_dom_classes": [],
            "description": "",
            "_model_name": "HTMLModel",
            "placeholder": "​",
            "_view_module": "@jupyter-widgets/controls",
            "_model_module_version": "1.5.0",
            "value": "100%",
            "_view_count": null,
            "_view_module_version": "1.5.0",
            "description_tooltip": null,
            "_model_module": "@jupyter-widgets/controls",
            "layout": "IPY_MODEL_772ba3e9baa24e9c81f8f9f211a03ce5"
          }
        },
        "bc6bd707729e470eaab392e3950befd5": {
          "model_module": "@jupyter-widgets/controls",
          "model_name": "FloatProgressModel",
          "model_module_version": "1.5.0",
          "state": {
            "_view_name": "ProgressView",
            "style": "IPY_MODEL_01350cf434bd4afb8a1a1abbd15075b8",
            "_dom_classes": [],
            "description": "",
            "_model_name": "FloatProgressModel",
            "bar_style": "success",
            "max": 87319819,
            "_view_module": "@jupyter-widgets/controls",
            "_model_module_version": "1.5.0",
            "value": 87319819,
            "_view_count": null,
            "_view_module_version": "1.5.0",
            "orientation": "horizontal",
            "min": 0,
            "description_tooltip": null,
            "_model_module": "@jupyter-widgets/controls",
            "layout": "IPY_MODEL_5b720d7be33643ed8ced196ccbedcc16"
          }
        },
        "974a793e1bbe45008999f8a117da8131": {
          "model_module": "@jupyter-widgets/controls",
          "model_name": "HTMLModel",
          "model_module_version": "1.5.0",
          "state": {
            "_view_name": "HTMLView",
            "style": "IPY_MODEL_09c214c8295a4b958705e0f1da9b0fe1",
            "_dom_classes": [],
            "description": "",
            "_model_name": "HTMLModel",
            "placeholder": "​",
            "_view_module": "@jupyter-widgets/controls",
            "_model_module_version": "1.5.0",
            "value": " 83.3M/83.3M [00:00&lt;00:00, 127MB/s]",
            "_view_count": null,
            "_view_module_version": "1.5.0",
            "description_tooltip": null,
            "_model_module": "@jupyter-widgets/controls",
            "layout": "IPY_MODEL_e2557df878634d2bab0303a5912233d2"
          }
        },
        "2fbc581297274ac8986582f53ac021c0": {
          "model_module": "@jupyter-widgets/controls",
          "model_name": "DescriptionStyleModel",
          "model_module_version": "1.5.0",
          "state": {
            "_view_name": "StyleView",
            "_model_name": "DescriptionStyleModel",
            "description_width": "",
            "_view_module": "@jupyter-widgets/base",
            "_model_module_version": "1.5.0",
            "_view_count": null,
            "_view_module_version": "1.2.0",
            "_model_module": "@jupyter-widgets/controls"
          }
        },
        "772ba3e9baa24e9c81f8f9f211a03ce5": {
          "model_module": "@jupyter-widgets/base",
          "model_name": "LayoutModel",
          "model_module_version": "1.2.0",
          "state": {
            "_view_name": "LayoutView",
            "grid_template_rows": null,
            "right": null,
            "justify_content": null,
            "_view_module": "@jupyter-widgets/base",
            "overflow": null,
            "_model_module_version": "1.2.0",
            "_view_count": null,
            "flex_flow": null,
            "width": null,
            "min_width": null,
            "border": null,
            "align_items": null,
            "bottom": null,
            "_model_module": "@jupyter-widgets/base",
            "top": null,
            "grid_column": null,
            "overflow_y": null,
            "overflow_x": null,
            "grid_auto_flow": null,
            "grid_area": null,
            "grid_template_columns": null,
            "flex": null,
            "_model_name": "LayoutModel",
            "justify_items": null,
            "grid_row": null,
            "max_height": null,
            "align_content": null,
            "visibility": null,
            "align_self": null,
            "height": null,
            "min_height": null,
            "padding": null,
            "grid_auto_rows": null,
            "grid_gap": null,
            "max_width": null,
            "order": null,
            "_view_module_version": "1.2.0",
            "grid_template_areas": null,
            "object_position": null,
            "object_fit": null,
            "grid_auto_columns": null,
            "margin": null,
            "display": null,
            "left": null
          }
        },
        "01350cf434bd4afb8a1a1abbd15075b8": {
          "model_module": "@jupyter-widgets/controls",
          "model_name": "ProgressStyleModel",
          "model_module_version": "1.5.0",
          "state": {
            "_view_name": "StyleView",
            "_model_name": "ProgressStyleModel",
            "description_width": "",
            "_view_module": "@jupyter-widgets/base",
            "_model_module_version": "1.5.0",
            "_view_count": null,
            "_view_module_version": "1.2.0",
            "bar_color": null,
            "_model_module": "@jupyter-widgets/controls"
          }
        },
        "5b720d7be33643ed8ced196ccbedcc16": {
          "model_module": "@jupyter-widgets/base",
          "model_name": "LayoutModel",
          "model_module_version": "1.2.0",
          "state": {
            "_view_name": "LayoutView",
            "grid_template_rows": null,
            "right": null,
            "justify_content": null,
            "_view_module": "@jupyter-widgets/base",
            "overflow": null,
            "_model_module_version": "1.2.0",
            "_view_count": null,
            "flex_flow": null,
            "width": null,
            "min_width": null,
            "border": null,
            "align_items": null,
            "bottom": null,
            "_model_module": "@jupyter-widgets/base",
            "top": null,
            "grid_column": null,
            "overflow_y": null,
            "overflow_x": null,
            "grid_auto_flow": null,
            "grid_area": null,
            "grid_template_columns": null,
            "flex": null,
            "_model_name": "LayoutModel",
            "justify_items": null,
            "grid_row": null,
            "max_height": null,
            "align_content": null,
            "visibility": null,
            "align_self": null,
            "height": null,
            "min_height": null,
            "padding": null,
            "grid_auto_rows": null,
            "grid_gap": null,
            "max_width": null,
            "order": null,
            "_view_module_version": "1.2.0",
            "grid_template_areas": null,
            "object_position": null,
            "object_fit": null,
            "grid_auto_columns": null,
            "margin": null,
            "display": null,
            "left": null
          }
        },
        "09c214c8295a4b958705e0f1da9b0fe1": {
          "model_module": "@jupyter-widgets/controls",
          "model_name": "DescriptionStyleModel",
          "model_module_version": "1.5.0",
          "state": {
            "_view_name": "StyleView",
            "_model_name": "DescriptionStyleModel",
            "description_width": "",
            "_view_module": "@jupyter-widgets/base",
            "_model_module_version": "1.5.0",
            "_view_count": null,
            "_view_module_version": "1.2.0",
            "_model_module": "@jupyter-widgets/controls"
          }
        },
        "e2557df878634d2bab0303a5912233d2": {
          "model_module": "@jupyter-widgets/base",
          "model_name": "LayoutModel",
          "model_module_version": "1.2.0",
          "state": {
            "_view_name": "LayoutView",
            "grid_template_rows": null,
            "right": null,
            "justify_content": null,
            "_view_module": "@jupyter-widgets/base",
            "overflow": null,
            "_model_module_version": "1.2.0",
            "_view_count": null,
            "flex_flow": null,
            "width": null,
            "min_width": null,
            "border": null,
            "align_items": null,
            "bottom": null,
            "_model_module": "@jupyter-widgets/base",
            "top": null,
            "grid_column": null,
            "overflow_y": null,
            "overflow_x": null,
            "grid_auto_flow": null,
            "grid_area": null,
            "grid_template_columns": null,
            "flex": null,
            "_model_name": "LayoutModel",
            "justify_items": null,
            "grid_row": null,
            "max_height": null,
            "align_content": null,
            "visibility": null,
            "align_self": null,
            "height": null,
            "min_height": null,
            "padding": null,
            "grid_auto_rows": null,
            "grid_gap": null,
            "max_width": null,
            "order": null,
            "_view_module_version": "1.2.0",
            "grid_template_areas": null,
            "object_position": null,
            "object_fit": null,
            "grid_auto_columns": null,
            "margin": null,
            "display": null,
            "left": null
          }
        },
        "b00e31359d4946ebaa54c85913285409": {
          "model_module": "@jupyter-widgets/controls",
          "model_name": "FileUploadModel",
          "model_module_version": "1.5.0",
          "state": {
            "_view_name": "FileUploadView",
            "_counter": 1,
            "style": "IPY_MODEL_f887302e482549f1a0bb5550f8d2c572",
            "_dom_classes": [],
            "description": "Upload",
            "multiple": false,
            "_model_name": "FileUploadModel",
            "data": [
              null
            ],
            "button_style": "",
            "_view_module": "@jupyter-widgets/controls",
            "_model_module_version": "1.5.0",
            "accept": "",
            "_view_count": null,
            "disabled": false,
            "_view_module_version": "1.5.0",
            "error": "",
            "description_tooltip": null,
            "metadata": [
              {
                "name": "dog.jpeg",
                "type": "image/jpeg",
                "size": 43210,
                "lastModified": 1644214127852
              }
            ],
            "_model_module": "@jupyter-widgets/controls",
            "layout": "IPY_MODEL_c8a20778e4cc479ea002f732bc60c4de",
            "icon": "upload"
          }
        },
        "f887302e482549f1a0bb5550f8d2c572": {
          "model_module": "@jupyter-widgets/controls",
          "model_name": "ButtonStyleModel",
          "model_module_version": "1.5.0",
          "state": {
            "_view_name": "StyleView",
            "_model_name": "ButtonStyleModel",
            "_view_module": "@jupyter-widgets/base",
            "_model_module_version": "1.5.0",
            "_view_count": null,
            "button_color": null,
            "font_weight": "",
            "_view_module_version": "1.2.0",
            "_model_module": "@jupyter-widgets/controls"
          }
        },
        "c8a20778e4cc479ea002f732bc60c4de": {
          "model_module": "@jupyter-widgets/base",
          "model_name": "LayoutModel",
          "model_module_version": "1.2.0",
          "state": {
            "_view_name": "LayoutView",
            "grid_template_rows": null,
            "right": null,
            "justify_content": null,
            "_view_module": "@jupyter-widgets/base",
            "overflow": null,
            "_model_module_version": "1.2.0",
            "_view_count": null,
            "flex_flow": null,
            "width": null,
            "min_width": null,
            "border": null,
            "align_items": null,
            "bottom": null,
            "_model_module": "@jupyter-widgets/base",
            "top": null,
            "grid_column": null,
            "overflow_y": null,
            "overflow_x": null,
            "grid_auto_flow": null,
            "grid_area": null,
            "grid_template_columns": null,
            "flex": null,
            "_model_name": "LayoutModel",
            "justify_items": null,
            "grid_row": null,
            "max_height": null,
            "align_content": null,
            "visibility": null,
            "align_self": null,
            "height": null,
            "min_height": null,
            "padding": null,
            "grid_auto_rows": null,
            "grid_gap": null,
            "max_width": null,
            "order": null,
            "_view_module_version": "1.2.0",
            "grid_template_areas": null,
            "object_position": null,
            "object_fit": null,
            "grid_auto_columns": null,
            "margin": null,
            "display": null,
            "left": null
          }
        }
      }
    }
  },
  "cells": [
    {
      "cell_type": "markdown",
      "metadata": {
        "id": "view-in-github",
        "colab_type": "text"
      },
      "source": [
        "<a href=\"https://colab.research.google.com/github/ramyamahesh1126/Deep-Learning/blob/Assignment1/Black_Box_Deep_Learning.ipynb\" target=\"_parent\"><img src=\"https://colab.research.google.com/assets/colab-badge.svg\" alt=\"Open In Colab\"/></a>"
      ]
    },
    {
      "cell_type": "markdown",
      "source": [
        "## **cnn_learner for image classification**"
      ],
      "metadata": {
        "id": "pOSjymEQgQTO"
      }
    },
    {
      "cell_type": "code",
      "source": [
        "!pip install -Uqq fastbook\n",
        "import fastbook\n"
      ],
      "metadata": {
        "colab": {
          "base_uri": "https://localhost:8080/"
        },
        "id": "PYlkS-WZzPeQ",
        "outputId": "b821289b-4e69-4bd7-9d0c-02aede5d11b2"
      },
      "execution_count": 1,
      "outputs": [
        {
          "output_type": "stream",
          "name": "stdout",
          "text": [
            "\u001b[K     |████████████████████████████████| 720 kB 4.3 MB/s \n",
            "\u001b[K     |████████████████████████████████| 189 kB 74.1 MB/s \n",
            "\u001b[K     |████████████████████████████████| 1.2 MB 56.8 MB/s \n",
            "\u001b[K     |████████████████████████████████| 46 kB 3.3 MB/s \n",
            "\u001b[K     |████████████████████████████████| 56 kB 3.2 MB/s \n",
            "\u001b[K     |████████████████████████████████| 51 kB 242 kB/s \n",
            "\u001b[?25h"
          ]
        }
      ]
    },
    {
      "cell_type": "code",
      "source": [
        "from fastbook import *"
      ],
      "metadata": {
        "id": "BGqI3o5FzR6H"
      },
      "execution_count": 2,
      "outputs": []
    },
    {
      "cell_type": "code",
      "source": [
        "from fastai.vision.all import *\n",
        "path = untar_data(URLs.PETS)/'images'\n",
        "\n",
        "def is_cat(x): return x[0].isupper()\n",
        "dls = ImageDataLoaders.from_name_func(\n",
        "    path, get_image_files(path), valid_pct=0.2, seed=42,\n",
        "    label_func=is_cat, item_tfms=Resize(224))\n",
        "\n",
        "learn = cnn_learner(dls, resnet34, metrics=error_rate)\n",
        "learn.fine_tune(1)"
      ],
      "metadata": {
        "colab": {
          "base_uri": "https://localhost:8080/",
          "height": 214,
          "referenced_widgets": [
            "18b7753c535e4de4998546013c52307d",
            "65b0e801b288447eae5c4dd9da891f4b",
            "8a73f8dbf0344a0da3f45b47ca5c8fca",
            "bc6bd707729e470eaab392e3950befd5",
            "974a793e1bbe45008999f8a117da8131",
            "2fbc581297274ac8986582f53ac021c0",
            "772ba3e9baa24e9c81f8f9f211a03ce5",
            "01350cf434bd4afb8a1a1abbd15075b8",
            "5b720d7be33643ed8ced196ccbedcc16",
            "09c214c8295a4b958705e0f1da9b0fe1",
            "e2557df878634d2bab0303a5912233d2"
          ]
        },
        "id": "J68j67Xoy3XK",
        "outputId": "7048f00d-6be0-48d9-97ee-0e3352816fdc"
      },
      "execution_count": 3,
      "outputs": [
        {
          "output_type": "display_data",
          "data": {
            "text/html": [
              "\n",
              "    <div>\n",
              "        <style>\n",
              "            /* Turns off some styling */\n",
              "            progress {\n",
              "                /* gets rid of default border in Firefox and Opera. */\n",
              "                border: none;\n",
              "                /* Needs to be in here for Safari polyfill so background images work as expected. */\n",
              "                background-size: auto;\n",
              "            }\n",
              "            .progress-bar-interrupted, .progress-bar-interrupted::-webkit-progress-bar {\n",
              "                background: #F44336;\n",
              "            }\n",
              "        </style>\n",
              "      <progress value='811712512' class='' max='811706944' style='width:300px; height:20px; vertical-align: middle;'></progress>\n",
              "      100.00% [811712512/811706944 00:18<00:00]\n",
              "    </div>\n",
              "    "
            ],
            "text/plain": [
              "<IPython.core.display.HTML object>"
            ]
          },
          "metadata": {}
        },
        {
          "output_type": "stream",
          "name": "stderr",
          "text": [
            "Downloading: \"https://download.pytorch.org/models/resnet34-b627a593.pth\" to /root/.cache/torch/hub/checkpoints/resnet34-b627a593.pth\n"
          ]
        },
        {
          "output_type": "display_data",
          "data": {
            "application/vnd.jupyter.widget-view+json": {
              "model_id": "18b7753c535e4de4998546013c52307d",
              "version_minor": 0,
              "version_major": 2
            },
            "text/plain": [
              "  0%|          | 0.00/83.3M [00:00<?, ?B/s]"
            ]
          },
          "metadata": {}
        },
        {
          "output_type": "display_data",
          "data": {
            "text/html": [
              "<table border=\"1\" class=\"dataframe\">\n",
              "  <thead>\n",
              "    <tr style=\"text-align: left;\">\n",
              "      <th>epoch</th>\n",
              "      <th>train_loss</th>\n",
              "      <th>valid_loss</th>\n",
              "      <th>error_rate</th>\n",
              "      <th>time</th>\n",
              "    </tr>\n",
              "  </thead>\n",
              "  <tbody>\n",
              "    <tr>\n",
              "      <td>0</td>\n",
              "      <td>0.175072</td>\n",
              "      <td>0.020468</td>\n",
              "      <td>0.007442</td>\n",
              "      <td>01:36</td>\n",
              "    </tr>\n",
              "  </tbody>\n",
              "</table>"
            ],
            "text/plain": [
              "<IPython.core.display.HTML object>"
            ]
          },
          "metadata": {}
        },
        {
          "output_type": "display_data",
          "data": {
            "text/html": [
              "<table border=\"1\" class=\"dataframe\">\n",
              "  <thead>\n",
              "    <tr style=\"text-align: left;\">\n",
              "      <th>epoch</th>\n",
              "      <th>train_loss</th>\n",
              "      <th>valid_loss</th>\n",
              "      <th>error_rate</th>\n",
              "      <th>time</th>\n",
              "    </tr>\n",
              "  </thead>\n",
              "  <tbody>\n",
              "    <tr>\n",
              "      <td>0</td>\n",
              "      <td>0.047582</td>\n",
              "      <td>0.030564</td>\n",
              "      <td>0.008119</td>\n",
              "      <td>02:11</td>\n",
              "    </tr>\n",
              "  </tbody>\n",
              "</table>"
            ],
            "text/plain": [
              "<IPython.core.display.HTML object>"
            ]
          },
          "metadata": {}
        }
      ]
    },
    {
      "cell_type": "code",
      "source": [
        "img = PILImage.create(image_cat())\n",
        "img.to_thumb(192)"
      ],
      "metadata": {
        "colab": {
          "base_uri": "https://localhost:8080/",
          "height": 209
        },
        "id": "QfU0XPBKy63x",
        "outputId": "ce760ed0-e33b-4f1a-a63f-ab6c322016ff"
      },
      "execution_count": 4,
      "outputs": [
        {
          "output_type": "execute_result",
          "data": {
            "image/png": "[encoded data removed]",
            "text/plain": [
              "<PIL.Image.Image image mode=RGB size=151x192 at 0x7F03A8660610>"
            ]
          },
          "metadata": {},
          "execution_count": 4
        }
      ]
    },
    {
      "cell_type": "code",
      "source": [
        "#hide_output\n",
        "uploader = widgets.FileUpload()\n",
        "uploader"
      ],
      "metadata": {
        "colab": {
          "base_uri": "https://localhost:8080/",
          "height": 49,
          "referenced_widgets": [
            "b00e31359d4946ebaa54c85913285409",
            "f887302e482549f1a0bb5550f8d2c572",
            "c8a20778e4cc479ea002f732bc60c4de"
          ]
        },
        "id": "LFiqoTsjy-oG",
        "outputId": "77b2ec35-ce87-44c0-e7f3-5186cafbc872"
      },
      "execution_count": 5,
      "outputs": [
        {
          "output_type": "display_data",
          "data": {
            "application/vnd.jupyter.widget-view+json": {
              "model_id": "b00e31359d4946ebaa54c85913285409",
              "version_minor": 0,
              "version_major": 2
            },
            "text/plain": [
              "FileUpload(value={}, description='Upload')"
            ]
          },
          "metadata": {}
        }
      ]
    },
    {
      "cell_type": "markdown",
      "source": [
        "Uploaded Image\n",
        "\n",
        "![dog.jpeg](data:image/jpeg;base64,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)"
      ],
      "metadata": {
        "id": "XsWUIOOn2tw3"
      }
    },
    {
      "cell_type": "code",
      "source": [
        "img = PILImage.create(uploader.data[0])\n",
        "is_cat,_,probs = learn.predict(img)\n",
        "print(f\"Is this a cat?: {is_cat}.\")\n",
        "print(f\"Probability it's a cat: {probs[1].item():.6f}\")"
      ],
      "metadata": {
        "colab": {
          "base_uri": "https://localhost:8080/",
          "height": 52
        },
        "id": "aBdr4KDrzC4g",
        "outputId": "1c703448-c695-4c99-c1dc-0acca74f1ab5"
      },
      "execution_count": 7,
      "outputs": [
        {
          "output_type": "display_data",
          "data": {
            "text/html": [
              ""
            ],
            "text/plain": [
              "<IPython.core.display.HTML object>"
            ]
          },
          "metadata": {}
        },
        {
          "output_type": "stream",
          "name": "stdout",
          "text": [
            "Is this a cat?: False.\n",
            "Probability it's a cat: 0.000000\n"
          ]
        }
      ]
    },
    {
      "cell_type": "markdown",
      "source": [
        "## **unet_learner for segmentation**"
      ],
      "metadata": {
        "id": "WxWtE0qb0n0u"
      }
    },
    {
      "cell_type": "code",
      "source": [
        "path = untar_data(URLs.CAMVID_TINY)\n",
        "dls = SegmentationDataLoaders.from_label_func(\n",
        "    path, bs=8, fnames = get_image_files(path/\"images\"),\n",
        "    label_func = lambda o: path/'labels'/f'{o.stem}_P{o.suffix}',\n",
        "    codes = np.loadtxt(path/'codes.txt', dtype=str)\n",
        ")\n",
        "\n",
        "learn = unet_learner(dls, resnet34)\n",
        "learn.fine_tune(8)"
      ],
      "metadata": {
        "colab": {
          "base_uri": "https://localhost:8080/",
          "height": 419
        },
        "id": "v45UtqOt0oeE",
        "outputId": "5dcad7bd-f0d0-45ee-fc42-bdeb187a285a"
      },
      "execution_count": 8,
      "outputs": [
        {
          "output_type": "stream",
          "name": "stderr",
          "text": [
            "/usr/local/lib/python3.7/dist-packages/torch/_tensor.py:1051: UserWarning: __floordiv__ is deprecated, and its behavior will change in a future version of pytorch. It currently rounds toward 0 (like the 'trunc' function NOT 'floor'). This results in incorrect rounding for negative values. To keep the current behavior, use torch.div(a, b, rounding_mode='trunc'), or for actual floor division, use torch.div(a, b, rounding_mode='floor').\n",
            "  ret = func(*args, **kwargs)\n"
          ]
        },
        {
          "output_type": "display_data",
          "data": {
            "text/html": [
              "<table border=\"1\" class=\"dataframe\">\n",
              "  <thead>\n",
              "    <tr style=\"text-align: left;\">\n",
              "      <th>epoch</th>\n",
              "      <th>train_loss</th>\n",
              "      <th>valid_loss</th>\n",
              "      <th>time</th>\n",
              "    </tr>\n",
              "  </thead>\n",
              "  <tbody>\n",
              "    <tr>\n",
              "      <td>0</td>\n",
              "      <td>2.774101</td>\n",
              "      <td>3.828146</td>\n",
              "      <td>00:04</td>\n",
              "    </tr>\n",
              "  </tbody>\n",
              "</table>"
            ],
            "text/plain": [
              "<IPython.core.display.HTML object>"
            ]
          },
          "metadata": {}
        },
        {
          "output_type": "display_data",
          "data": {
            "text/html": [
              "<table border=\"1\" class=\"dataframe\">\n",
              "  <thead>\n",
              "    <tr style=\"text-align: left;\">\n",
              "      <th>epoch</th>\n",
              "      <th>train_loss</th>\n",
              "      <th>valid_loss</th>\n",
              "      <th>time</th>\n",
              "    </tr>\n",
              "  </thead>\n",
              "  <tbody>\n",
              "    <tr>\n",
              "      <td>0</td>\n",
              "      <td>2.132625</td>\n",
              "      <td>1.638968</td>\n",
              "      <td>00:04</td>\n",
              "    </tr>\n",
              "    <tr>\n",
              "      <td>1</td>\n",
              "      <td>1.798585</td>\n",
              "      <td>1.312582</td>\n",
              "      <td>00:04</td>\n",
              "    </tr>\n",
              "    <tr>\n",
              "      <td>2</td>\n",
              "      <td>1.579435</td>\n",
              "      <td>1.186080</td>\n",
              "      <td>00:04</td>\n",
              "    </tr>\n",
              "    <tr>\n",
              "      <td>3</td>\n",
              "      <td>1.435844</td>\n",
              "      <td>0.987353</td>\n",
              "      <td>00:04</td>\n",
              "    </tr>\n",
              "    <tr>\n",
              "      <td>4</td>\n",
              "      <td>1.286022</td>\n",
              "      <td>0.825484</td>\n",
              "      <td>00:04</td>\n",
              "    </tr>\n",
              "    <tr>\n",
              "      <td>5</td>\n",
              "      <td>1.149955</td>\n",
              "      <td>0.780318</td>\n",
              "      <td>00:04</td>\n",
              "    </tr>\n",
              "    <tr>\n",
              "      <td>6</td>\n",
              "      <td>1.038536</td>\n",
              "      <td>0.746488</td>\n",
              "      <td>00:04</td>\n",
              "    </tr>\n",
              "    <tr>\n",
              "      <td>7</td>\n",
              "      <td>0.950682</td>\n",
              "      <td>0.744272</td>\n",
              "      <td>00:04</td>\n",
              "    </tr>\n",
              "  </tbody>\n",
              "</table>"
            ],
            "text/plain": [
              "<IPython.core.display.HTML object>"
            ]
          },
          "metadata": {}
        }
      ]
    },
    {
      "cell_type": "code",
      "source": [
        "learn.show_results(max_n=6, figsize=(7,8))"
      ],
      "metadata": {
        "colab": {
          "base_uri": "https://localhost:8080/",
          "height": 578
        },
        "id": "V2FfreI3C_j-",
        "outputId": "231b0fa8-adfa-4b83-e4d5-de7fd6b3fcde"
      },
      "execution_count": 9,
      "outputs": [
        {
          "output_type": "stream",
          "name": "stderr",
          "text": [
            "/usr/local/lib/python3.7/dist-packages/torch/_tensor.py:1051: UserWarning: __floordiv__ is deprecated, and its behavior will change in a future version of pytorch. It currently rounds toward 0 (like the 'trunc' function NOT 'floor'). This results in incorrect rounding for negative values. To keep the current behavior, use torch.div(a, b, rounding_mode='trunc'), or for actual floor division, use torch.div(a, b, rounding_mode='floor').\n",
            "  ret = func(*args, **kwargs)\n"
          ]
        },
        {
          "output_type": "display_data",
          "data": {
            "text/html": [
              ""
            ],
            "text/plain": [
              "<IPython.core.display.HTML object>"
            ]
          },
          "metadata": {}
        },
        {
          "output_type": "display_data",
          "data": {
            "image/png": "[encoded data removed]",
            "text/plain": [
              "<Figure size 504x576 with 12 Axes>"
            ]
          },
          "metadata": {
            "needs_background": "light"
          }
        }
      ]
    },
    {
      "cell_type": "markdown",
      "source": [
        "## ** text_classifier_learner for sentiment analysis**"
      ],
      "metadata": {
        "id": "KWE-I41JE2lF"
      }
    },
    {
      "cell_type": "code",
      "source": [
        "from fastai.text.all import *\n",
        "\n",
        "dls = TextDataLoaders.from_folder(untar_data(URLs.IMDB), valid='test')\n",
        "learn = text_classifier_learner(dls, AWD_LSTM, drop_mult=0.5, metrics=accuracy)\n",
        "learn.fine_tune(4, 1e-2)"
      ],
      "metadata": {
        "colab": {
          "base_uri": "https://localhost:8080/",
          "height": 279
        },
        "id": "syUnjNYPE3U9",
        "outputId": "ac7ff6bc-4b08-40a4-de45-3729c9fa1eb2"
      },
      "execution_count": 3,
      "outputs": [
        {
          "output_type": "display_data",
          "data": {
            "text/html": [
              "\n",
              "    <div>\n",
              "        <style>\n",
              "            /* Turns off some styling */\n",
              "            progress {\n",
              "                /* gets rid of default border in Firefox and Opera. */\n",
              "                border: none;\n",
              "                /* Needs to be in here for Safari polyfill so background images work as expected. */\n",
              "                background-size: auto;\n",
              "            }\n",
              "            .progress-bar-interrupted, .progress-bar-interrupted::-webkit-progress-bar {\n",
              "                background: #F44336;\n",
              "            }\n",
              "        </style>\n",
              "      <progress value='144441344' class='' max='144440600' style='width:300px; height:20px; vertical-align: middle;'></progress>\n",
              "      100.00% [144441344/144440600 00:09<00:00]\n",
              "    </div>\n",
              "    "
            ],
            "text/plain": [
              "<IPython.core.display.HTML object>"
            ]
          },
          "metadata": {}
        },
        {
          "output_type": "display_data",
          "data": {
            "text/html": [
              ""
            ],
            "text/plain": [
              "<IPython.core.display.HTML object>"
            ]
          },
          "metadata": {}
        },
        {
          "output_type": "display_data",
          "data": {
            "text/html": [
              "\n",
              "    <div>\n",
              "        <style>\n",
              "            /* Turns off some styling */\n",
              "            progress {\n",
              "                /* gets rid of default border in Firefox and Opera. */\n",
              "                border: none;\n",
              "                /* Needs to be in here for Safari polyfill so background images work as expected. */\n",
              "                background-size: auto;\n",
              "            }\n",
              "            .progress-bar-interrupted, .progress-bar-interrupted::-webkit-progress-bar {\n",
              "                background: #F44336;\n",
              "            }\n",
              "        </style>\n",
              "      <progress value='105070592' class='' max='105067061' style='width:300px; height:20px; vertical-align: middle;'></progress>\n",
              "      100.00% [105070592/105067061 00:07<00:00]\n",
              "    </div>\n",
              "    "
            ],
            "text/plain": [
              "<IPython.core.display.HTML object>"
            ]
          },
          "metadata": {}
        },
        {
          "output_type": "display_data",
          "data": {
            "text/html": [
              "<table border=\"1\" class=\"dataframe\">\n",
              "  <thead>\n",
              "    <tr style=\"text-align: left;\">\n",
              "      <th>epoch</th>\n",
              "      <th>train_loss</th>\n",
              "      <th>valid_loss</th>\n",
              "      <th>accuracy</th>\n",
              "      <th>time</th>\n",
              "    </tr>\n",
              "  </thead>\n",
              "  <tbody>\n",
              "    <tr>\n",
              "      <td>0</td>\n",
              "      <td>0.461290</td>\n",
              "      <td>0.393864</td>\n",
              "      <td>0.826480</td>\n",
              "      <td>02:11</td>\n",
              "    </tr>\n",
              "  </tbody>\n",
              "</table>"
            ],
            "text/plain": [
              "<IPython.core.display.HTML object>"
            ]
          },
          "metadata": {}
        },
        {
          "output_type": "display_data",
          "data": {
            "text/html": [
              "<table border=\"1\" class=\"dataframe\">\n",
              "  <thead>\n",
              "    <tr style=\"text-align: left;\">\n",
              "      <th>epoch</th>\n",
              "      <th>train_loss</th>\n",
              "      <th>valid_loss</th>\n",
              "      <th>accuracy</th>\n",
              "      <th>time</th>\n",
              "    </tr>\n",
              "  </thead>\n",
              "  <tbody>\n",
              "    <tr>\n",
              "      <td>0</td>\n",
              "      <td>0.298501</td>\n",
              "      <td>0.239551</td>\n",
              "      <td>0.905160</td>\n",
              "      <td>04:10</td>\n",
              "    </tr>\n",
              "    <tr>\n",
              "      <td>1</td>\n",
              "      <td>0.247184</td>\n",
              "      <td>0.291177</td>\n",
              "      <td>0.882760</td>\n",
              "      <td>04:10</td>\n",
              "    </tr>\n",
              "    <tr>\n",
              "      <td>2</td>\n",
              "      <td>0.187950</td>\n",
              "      <td>0.197498</td>\n",
              "      <td>0.927160</td>\n",
              "      <td>04:10</td>\n",
              "    </tr>\n",
              "    <tr>\n",
              "      <td>3</td>\n",
              "      <td>0.150869</td>\n",
              "      <td>0.194120</td>\n",
              "      <td>0.930200</td>\n",
              "      <td>04:10</td>\n",
              "    </tr>\n",
              "  </tbody>\n",
              "</table>"
            ],
            "text/plain": [
              "<IPython.core.display.HTML object>"
            ]
          },
          "metadata": {}
        }
      ]
    },
    {
      "cell_type": "code",
      "source": [
        "learn.predict(\"I really liked that movie!\")"
      ],
      "metadata": {
        "colab": {
          "base_uri": "https://localhost:8080/",
          "height": 34
        },
        "id": "Ua4X6q4RE_sS",
        "outputId": "0cc942ba-4b62-45cd-aaa6-e0a0389109b9"
      },
      "execution_count": 4,
      "outputs": [
        {
          "output_type": "display_data",
          "data": {
            "text/html": [
              ""
            ],
            "text/plain": [
              "<IPython.core.display.HTML object>"
            ]
          },
          "metadata": {}
        },
        {
          "output_type": "execute_result",
          "data": {
            "text/plain": [
              "('pos', TensorText(1), TensorText([1.1868e-04, 9.9988e-01]))"
            ]
          },
          "metadata": {},
          "execution_count": 4
        }
      ]
    },
    {
      "cell_type": "markdown",
      "source": [
        "## ** tabular_learner for decisiontree**"
      ],
      "metadata": {
        "id": "DACYQa_qG0U_"
      }
    },
    {
      "cell_type": "code",
      "source": [
        "from fastai.tabular.all import *\n",
        "path = untar_data(URLs.ADULT_SAMPLE)\n",
        "\n",
        "dls = TabularDataLoaders.from_csv(path/'adult.csv', path=path, y_names=\"salary\",\n",
        "    cat_names = ['workclass', 'education', 'marital-status', 'occupation',\n",
        "                 'relationship', 'race'],\n",
        "    cont_names = ['age', 'fnlwgt', 'education-num'],\n",
        "    procs = [Categorify, FillMissing, Normalize])\n",
        "\n",
        "learn = tabular_learner(dls, metrics=accuracy)"
      ],
      "metadata": {
        "colab": {
          "base_uri": "https://localhost:8080/",
          "height": 37
        },
        "id": "3qI_fQiXGvlO",
        "outputId": "7e152274-e44b-45df-fe52-3be8dc9bc066"
      },
      "execution_count": 5,
      "outputs": [
        {
          "output_type": "display_data",
          "data": {
            "text/html": [
              "\n",
              "    <div>\n",
              "        <style>\n",
              "            /* Turns off some styling */\n",
              "            progress {\n",
              "                /* gets rid of default border in Firefox and Opera. */\n",
              "                border: none;\n",
              "                /* Needs to be in here for Safari polyfill so background images work as expected. */\n",
              "                background-size: auto;\n",
              "            }\n",
              "            .progress-bar-interrupted, .progress-bar-interrupted::-webkit-progress-bar {\n",
              "                background: #F44336;\n",
              "            }\n",
              "        </style>\n",
              "      <progress value='974848' class='' max='968212' style='width:300px; height:20px; vertical-align: middle;'></progress>\n",
              "      100.69% [974848/968212 00:00<00:00]\n",
              "    </div>\n",
              "    "
            ],
            "text/plain": [
              "<IPython.core.display.HTML object>"
            ]
          },
          "metadata": {}
        }
      ]
    },
    {
      "cell_type": "code",
      "source": [
        "learn.fit_one_cycle(3)"
      ],
      "metadata": {
        "colab": {
          "base_uri": "https://localhost:8080/",
          "height": 143
        },
        "id": "Whzop6xpGxul",
        "outputId": "e7ca5a6e-5ebf-4386-cc4e-56f5bc57017f"
      },
      "execution_count": 6,
      "outputs": [
        {
          "output_type": "display_data",
          "data": {
            "text/html": [
              "<table border=\"1\" class=\"dataframe\">\n",
              "  <thead>\n",
              "    <tr style=\"text-align: left;\">\n",
              "      <th>epoch</th>\n",
              "      <th>train_loss</th>\n",
              "      <th>valid_loss</th>\n",
              "      <th>accuracy</th>\n",
              "      <th>time</th>\n",
              "    </tr>\n",
              "  </thead>\n",
              "  <tbody>\n",
              "    <tr>\n",
              "      <td>0</td>\n",
              "      <td>0.374053</td>\n",
              "      <td>0.372600</td>\n",
              "      <td>0.828471</td>\n",
              "      <td>00:03</td>\n",
              "    </tr>\n",
              "    <tr>\n",
              "      <td>1</td>\n",
              "      <td>0.371670</td>\n",
              "      <td>0.362348</td>\n",
              "      <td>0.833999</td>\n",
              "      <td>00:03</td>\n",
              "    </tr>\n",
              "    <tr>\n",
              "      <td>2</td>\n",
              "      <td>0.350932</td>\n",
              "      <td>0.359070</td>\n",
              "      <td>0.838145</td>\n",
              "      <td>00:03</td>\n",
              "    </tr>\n",
              "  </tbody>\n",
              "</table>"
            ],
            "text/plain": [
              "<IPython.core.display.HTML object>"
            ]
          },
          "metadata": {}
        }
      ]
    },
    {
      "cell_type": "markdown",
      "source": [
        "## **collab_learner for ranking**"
      ],
      "metadata": {
        "id": "cif6W9q1G1r9"
      }
    },
    {
      "cell_type": "code",
      "source": [
        "from fastai.collab import *\n",
        "path = untar_data(URLs.ML_SAMPLE)\n",
        "dls = CollabDataLoaders.from_csv(path/'ratings.csv')\n",
        "learn = collab_learner(dls, y_range=(0.5,5.5))\n",
        "learn.fine_tune(10)"
      ],
      "metadata": {
        "colab": {
          "base_uri": "https://localhost:8080/",
          "height": 447
        },
        "id": "jKpC25vHG1Ss",
        "outputId": "d0a6cf40-b6ba-48e6-c6bf-5e4edfc88fac"
      },
      "execution_count": 7,
      "outputs": [
        {
          "output_type": "display_data",
          "data": {
            "text/html": [
              "\n",
              "    <div>\n",
              "        <style>\n",
              "            /* Turns off some styling */\n",
              "            progress {\n",
              "                /* gets rid of default border in Firefox and Opera. */\n",
              "                border: none;\n",
              "                /* Needs to be in here for Safari polyfill so background images work as expected. */\n",
              "                background-size: auto;\n",
              "            }\n",
              "            .progress-bar-interrupted, .progress-bar-interrupted::-webkit-progress-bar {\n",
              "                background: #F44336;\n",
              "            }\n",
              "        </style>\n",
              "      <progress value='57344' class='' max='51790' style='width:300px; height:20px; vertical-align: middle;'></progress>\n",
              "      110.72% [57344/51790 00:00<00:00]\n",
              "    </div>\n",
              "    "
            ],
            "text/plain": [
              "<IPython.core.display.HTML object>"
            ]
          },
          "metadata": {}
        },
        {
          "output_type": "display_data",
          "data": {
            "text/html": [
              "<table border=\"1\" class=\"dataframe\">\n",
              "  <thead>\n",
              "    <tr style=\"text-align: left;\">\n",
              "      <th>epoch</th>\n",
              "      <th>train_loss</th>\n",
              "      <th>valid_loss</th>\n",
              "      <th>time</th>\n",
              "    </tr>\n",
              "  </thead>\n",
              "  <tbody>\n",
              "    <tr>\n",
              "      <td>0</td>\n",
              "      <td>1.510421</td>\n",
              "      <td>1.409248</td>\n",
              "      <td>00:00</td>\n",
              "    </tr>\n",
              "  </tbody>\n",
              "</table>"
            ],
            "text/plain": [
              "<IPython.core.display.HTML object>"
            ]
          },
          "metadata": {}
        },
        {
          "output_type": "display_data",
          "data": {
            "text/html": [
              "<table border=\"1\" class=\"dataframe\">\n",
              "  <thead>\n",
              "    <tr style=\"text-align: left;\">\n",
              "      <th>epoch</th>\n",
              "      <th>train_loss</th>\n",
              "      <th>valid_loss</th>\n",
              "      <th>time</th>\n",
              "    </tr>\n",
              "  </thead>\n",
              "  <tbody>\n",
              "    <tr>\n",
              "      <td>0</td>\n",
              "      <td>1.378706</td>\n",
              "      <td>1.353837</td>\n",
              "      <td>00:00</td>\n",
              "    </tr>\n",
              "    <tr>\n",
              "      <td>1</td>\n",
              "      <td>1.283051</td>\n",
              "      <td>1.182615</td>\n",
              "      <td>00:00</td>\n",
              "    </tr>\n",
              "    <tr>\n",
              "      <td>2</td>\n",
              "      <td>1.051507</td>\n",
              "      <td>0.870182</td>\n",
              "      <td>00:00</td>\n",
              "    </tr>\n",
              "    <tr>\n",
              "      <td>3</td>\n",
              "      <td>0.827181</td>\n",
              "      <td>0.705093</td>\n",
              "      <td>00:00</td>\n",
              "    </tr>\n",
              "    <tr>\n",
              "      <td>4</td>\n",
              "      <td>0.702141</td>\n",
              "      <td>0.661779</td>\n",
              "      <td>00:00</td>\n",
              "    </tr>\n",
              "    <tr>\n",
              "      <td>5</td>\n",
              "      <td>0.646693</td>\n",
              "      <td>0.647653</td>\n",
              "      <td>00:00</td>\n",
              "    </tr>\n",
              "    <tr>\n",
              "      <td>6</td>\n",
              "      <td>0.621587</td>\n",
              "      <td>0.642445</td>\n",
              "      <td>00:00</td>\n",
              "    </tr>\n",
              "    <tr>\n",
              "      <td>7</td>\n",
              "      <td>0.605313</td>\n",
              "      <td>0.639461</td>\n",
              "      <td>00:00</td>\n",
              "    </tr>\n",
              "    <tr>\n",
              "      <td>8</td>\n",
              "      <td>0.602502</td>\n",
              "      <td>0.638560</td>\n",
              "      <td>00:00</td>\n",
              "    </tr>\n",
              "    <tr>\n",
              "      <td>9</td>\n",
              "      <td>0.606968</td>\n",
              "      <td>0.638429</td>\n",
              "      <td>00:00</td>\n",
              "    </tr>\n",
              "  </tbody>\n",
              "</table>"
            ],
            "text/plain": [
              "<IPython.core.display.HTML object>"
            ]
          },
          "metadata": {}
        }
      ]
    },
    {
      "cell_type": "code",
      "source": [
        "learn.show_results()"
      ],
      "metadata": {
        "colab": {
          "base_uri": "https://localhost:8080/",
          "height": 332
        },
        "id": "EItUV-3ZG8GJ",
        "outputId": "6a2704ce-e6f2-4484-bce4-b76eac7087a7"
      },
      "execution_count": 8,
      "outputs": [
        {
          "output_type": "display_data",
          "data": {
            "text/html": [
              ""
            ],
            "text/plain": [
              "<IPython.core.display.HTML object>"
            ]
          },
          "metadata": {}
        },
        {
          "output_type": "display_data",
          "data": {
            "text/html": [
              "<table border=\"1\" class=\"dataframe\">\n",
              "  <thead>\n",
              "    <tr style=\"text-align: right;\">\n",
              "      <th></th>\n",
              "      <th>userId</th>\n",
              "      <th>movieId</th>\n",
              "      <th>rating</th>\n",
              "      <th>rating_pred</th>\n",
              "    </tr>\n",
              "  </thead>\n",
              "  <tbody>\n",
              "    <tr>\n",
              "      <th>0</th>\n",
              "      <td>79.0</td>\n",
              "      <td>83.0</td>\n",
              "      <td>4.5</td>\n",
              "      <td>4.650622</td>\n",
              "    </tr>\n",
              "    <tr>\n",
              "      <th>1</th>\n",
              "      <td>49.0</td>\n",
              "      <td>77.0</td>\n",
              "      <td>5.0</td>\n",
              "      <td>4.435779</td>\n",
              "    </tr>\n",
              "    <tr>\n",
              "      <th>2</th>\n",
              "      <td>64.0</td>\n",
              "      <td>51.0</td>\n",
              "      <td>4.0</td>\n",
              "      <td>4.211000</td>\n",
              "    </tr>\n",
              "    <tr>\n",
              "      <th>3</th>\n",
              "      <td>98.0</td>\n",
              "      <td>7.0</td>\n",
              "      <td>5.0</td>\n",
              "      <td>4.833302</td>\n",
              "    </tr>\n",
              "    <tr>\n",
              "      <th>4</th>\n",
              "      <td>1.0</td>\n",
              "      <td>45.0</td>\n",
              "      <td>4.0</td>\n",
              "      <td>3.840652</td>\n",
              "    </tr>\n",
              "    <tr>\n",
              "      <th>5</th>\n",
              "      <td>86.0</td>\n",
              "      <td>48.0</td>\n",
              "      <td>3.0</td>\n",
              "      <td>3.797843</td>\n",
              "    </tr>\n",
              "    <tr>\n",
              "      <th>6</th>\n",
              "      <td>8.0</td>\n",
              "      <td>84.0</td>\n",
              "      <td>4.5</td>\n",
              "      <td>4.272635</td>\n",
              "    </tr>\n",
              "    <tr>\n",
              "      <th>7</th>\n",
              "      <td>93.0</td>\n",
              "      <td>71.0</td>\n",
              "      <td>3.0</td>\n",
              "      <td>4.155020</td>\n",
              "    </tr>\n",
              "    <tr>\n",
              "      <th>8</th>\n",
              "      <td>35.0</td>\n",
              "      <td>16.0</td>\n",
              "      <td>4.0</td>\n",
              "      <td>3.304728</td>\n",
              "    </tr>\n",
              "  </tbody>\n",
              "</table>"
            ],
            "text/plain": [
              "<IPython.core.display.HTML object>"
            ]
          },
          "metadata": {}
        }
      ]
    }
  ]
}