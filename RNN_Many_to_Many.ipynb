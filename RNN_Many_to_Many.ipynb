{
  "nbformat": 4,
  "nbformat_minor": 0,
  "metadata": {
    "colab": {
      "name": "RNN Many to Many.ipynb",
      "provenance": [],
      "machine_shape": "hm",
      "authorship_tag": "ABX9TyPvV6BUWzAYmE5qVFDi3cVg",
      "include_colab_link": true
    },
    "kernelspec": {
      "name": "python3",
      "display_name": "Python 3"
    },
    "language_info": {
      "name": "python"
    },
    "accelerator": "GPU"
  },
  "cells": [
    {
      "cell_type": "markdown",
      "metadata": {
        "id": "view-in-github",
        "colab_type": "text"
      },
      "source": [
        "<a href=\"https://colab.research.google.com/github/ramyamahesh1126/Deep-Learning/blob/Assignment7/RNN_Many_to_Many.ipynb\" target=\"_parent\"><img src=\"https://colab.research.google.com/assets/colab-badge.svg\" alt=\"Open In Colab\"/></a>"
      ]
    },
    {
      "cell_type": "markdown",
      "metadata": {
        "id": "iHVxSbvbijwi"
      },
      "source": [
        "# RNN - Many-to-many\n"
      ]
    },
    {
      "cell_type": "code",
      "execution_count": 1,
      "metadata": {
        "id": "1JDYp43_ijwl",
        "outputId": "f6f07a7f-b571-407e-935e-4e3aa9ac6630",
        "colab": {
          "base_uri": "https://localhost:8080/"
        }
      },
      "outputs": [
        {
          "output_type": "stream",
          "name": "stdout",
          "text": [
            "Tensorflow: 2.8.0\n"
          ]
        }
      ],
      "source": [
        "import tensorflow as tf\n",
        "import numpy as np\n",
        "import matplotlib.pyplot as plt\n",
        "import pandas as pd\n",
        "\n",
        "print('Tensorflow: {}'.format(tf.__version__))\n",
        "\n",
        "plt.rcParams['figure.figsize'] = (16, 10)\n",
        "plt.rc('font', size=15)"
      ]
    },
    {
      "cell_type": "markdown",
      "metadata": {
        "id": "Tqm0NqOAijwn"
      },
      "source": [
        "## Example - Part of Speech Tagging\n",
        "\n",
        "### Prepraring Dataset\n",
        "\n",
        "Implement the simple many-to-many model for POS tagging. "
      ]
    },
    {
      "cell_type": "code",
      "execution_count": 2,
      "metadata": {
        "id": "yK0ntMQFijwn"
      },
      "outputs": [],
      "source": [
        "sentences = [['I', 'feel', 'hungry'],\n",
        "             ['tensorflow', 'is', 'very', 'difficult'],\n",
        "             ['tensorflow', 'is', 'a', 'framework', 'for', 'deep', 'learning'],\n",
        "             ['tensorflow', 'is', 'very', 'fast', 'changing']]\n",
        "\n",
        "pos = [['pronoun', 'verb', 'adjective'], \n",
        "       ['noun', 'verb', 'adverb', 'adjective'],\n",
        "       ['noun', 'verb', 'determiner', 'noun', 'preposition', 'adjective', 'noun'],\n",
        "       ['noun', 'verb', 'adverb', 'adjective', 'verb']]"
      ]
    },
    {
      "cell_type": "code",
      "execution_count": 3,
      "metadata": {
        "id": "fzndkRLeijwo",
        "outputId": "a5a1ff31-8d0f-4bbc-ae44-1bd6280e7d32",
        "colab": {
          "base_uri": "https://localhost:8080/"
        }
      },
      "outputs": [
        {
          "output_type": "stream",
          "name": "stdout",
          "text": [
            "['<pad>', 'I', 'a', 'changing', 'deep', 'difficult', 'fast', 'feel', 'for', 'framework', 'hungry', 'is', 'learning', 'tensorflow', 'very']\n",
            "{'<pad>': 0, 'I': 1, 'a': 2, 'changing': 3, 'deep': 4, 'difficult': 5, 'fast': 6, 'feel': 7, 'for': 8, 'framework': 9, 'hungry': 10, 'is': 11, 'learning': 12, 'tensorflow': 13, 'very': 14}\n",
            "{0: '<pad>', 1: 'I', 2: 'a', 3: 'changing', 4: 'deep', 5: 'difficult', 6: 'fast', 7: 'feel', 8: 'for', 9: 'framework', 10: 'hungry', 11: 'is', 12: 'learning', 13: 'tensorflow', 14: 'very'}\n"
          ]
        }
      ],
      "source": [
        "word_list =['<pad>'] + sorted(set(sum(sentences, []))) \n",
        "word2idx = {word:idx for idx, word in enumerate(word_list)}\n",
        "idx2word = {idx:word for idx, word in enumerate(word_list)}\n",
        "\n",
        "print(word_list)\n",
        "print(word2idx)\n",
        "print(idx2word)"
      ]
    },
    {
      "cell_type": "code",
      "execution_count": 4,
      "metadata": {
        "id": "cWEZ54zBijwp",
        "outputId": "9c683111-ec52-4a16-9211-055dc7463e28",
        "colab": {
          "base_uri": "https://localhost:8080/"
        }
      },
      "outputs": [
        {
          "output_type": "stream",
          "name": "stdout",
          "text": [
            "['<pad>', 'adjective', 'adverb', 'determiner', 'noun', 'preposition', 'pronoun', 'verb']\n",
            "{'<pad>': 0, 'adjective': 1, 'adverb': 2, 'determiner': 3, 'noun': 4, 'preposition': 5, 'pronoun': 6, 'verb': 7}\n",
            "{0: '<pad>', 1: 'adjective', 2: 'adverb', 3: 'determiner', 4: 'noun', 5: 'preposition', 6: 'pronoun', 7: 'verb'}\n"
          ]
        }
      ],
      "source": [
        "pos_list = ['<pad>'] + sorted(set(sum(pos, [])))\n",
        "pos2idx = {pos:idx for idx, pos in enumerate(pos_list)}\n",
        "idx2pos = {idx:pos for idx, pos in enumerate(pos_list)}\n",
        "\n",
        "print(pos_list)\n",
        "print(pos2idx)\n",
        "print(idx2pos)"
      ]
    },
    {
      "cell_type": "markdown",
      "metadata": {
        "id": "9y3rAOWHijwp"
      },
      "source": [
        "We build the dictionary for dataset. Based on this, we can convert from sentence to numerical vector."
      ]
    },
    {
      "cell_type": "code",
      "execution_count": 5,
      "metadata": {
        "id": "unudSbMbijwp",
        "outputId": "10f30559-b504-448a-893f-e20a39e70287",
        "colab": {
          "base_uri": "https://localhost:8080/"
        }
      },
      "outputs": [
        {
          "output_type": "stream",
          "name": "stdout",
          "text": [
            "[[1, 7, 10], [13, 11, 14, 5], [13, 11, 2, 9, 8, 4, 12], [13, 11, 14, 6, 3]]\n",
            "[[6, 7, 1], [4, 7, 2, 1], [4, 7, 3, 4, 5, 1, 4], [4, 7, 2, 1, 7]]\n"
          ]
        }
      ],
      "source": [
        "X = list(map(lambda sentence: [word2idx.get(token) for token in sentence], sentences))\n",
        "y = list(map(lambda sentence: [pos2idx.get(token) for token in sentence], pos))\n",
        "\n",
        "print(X)\n",
        "print(y)"
      ]
    },
    {
      "cell_type": "code",
      "execution_count": 6,
      "metadata": {
        "id": "J-utp7Rcijwq",
        "outputId": "1ff23d29-44d3-47cf-e01b-add84497ff4a",
        "colab": {
          "base_uri": "https://localhost:8080/"
        }
      },
      "outputs": [
        {
          "output_type": "stream",
          "name": "stdout",
          "text": [
            "[[ 1  7 10  0  0  0  0  0  0  0]\n",
            " [13 11 14  5  0  0  0  0  0  0]\n",
            " [13 11  2  9  8  4 12  0  0  0]\n",
            " [13 11 14  6  3  0  0  0  0  0]]\n",
            "[[1. 1. 1. 0. 0. 0. 0. 0. 0. 0.]\n",
            " [1. 1. 1. 1. 0. 0. 0. 0. 0. 0.]\n",
            " [1. 1. 1. 1. 1. 1. 1. 0. 0. 0.]\n",
            " [1. 1. 1. 1. 1. 0. 0. 0. 0. 0.]]\n",
            "[3. 4. 7. 5.]\n"
          ]
        }
      ],
      "source": [
        "from tensorflow.keras.preprocessing.sequence import pad_sequences\n",
        "\n",
        "X = pad_sequences(X, maxlen=10, padding='post')\n",
        "X_mask = (X != 0).astype(np.float32)\n",
        "X_len = np.array(list((map(lambda sentence: len(sentence), sentences))), dtype=np.float32)\n",
        "\n",
        "print(X)\n",
        "print(X_mask)\n",
        "print(X_len)"
      ]
    },
    {
      "cell_type": "code",
      "execution_count": 7,
      "metadata": {
        "id": "oe0LEogJijwq",
        "outputId": "d7eda987-e521-4677-b308-f16eaa101de1",
        "colab": {
          "base_uri": "https://localhost:8080/"
        }
      },
      "outputs": [
        {
          "output_type": "stream",
          "name": "stdout",
          "text": [
            "[[6 7 1 0 0 0 0 0 0 0]\n",
            " [4 7 2 1 0 0 0 0 0 0]\n",
            " [4 7 3 4 5 1 4 0 0 0]\n",
            " [4 7 2 1 7 0 0 0 0 0]]\n"
          ]
        }
      ],
      "source": [
        "y = pad_sequences(y, maxlen=10, padding='post')\n",
        "\n",
        "print(y)"
      ]
    },
    {
      "cell_type": "code",
      "execution_count": 8,
      "metadata": {
        "id": "3hJ8j08zijwq",
        "outputId": "78b63f16-a311-425e-d2b3-37612e810a8f",
        "colab": {
          "base_uri": "https://localhost:8080/"
        }
      },
      "outputs": [
        {
          "output_type": "stream",
          "name": "stdout",
          "text": [
            "<BatchDataset element_spec=(TensorSpec(shape=(None, 10), dtype=tf.int32, name=None), TensorSpec(shape=(None, 10), dtype=tf.int32, name=None), TensorSpec(shape=(None,), dtype=tf.float32, name=None))>\n"
          ]
        }
      ],
      "source": [
        "train_ds = tf.data.Dataset.from_tensor_slices((X, y, X_len)).shuffle(buffer_size=4).batch(batch_size=2)\n",
        "\n",
        "print(train_ds)"
      ]
    },
    {
      "cell_type": "markdown",
      "metadata": {
        "id": "D7BihgyDijwr"
      },
      "source": [
        "### Model implementation\n",
        "\n",
        "For many-to-many model, the output node must be number of classes. In our example, we need to predict the type of POS."
      ]
    },
    {
      "cell_type": "code",
      "execution_count": 9,
      "metadata": {
        "id": "J8hglMyUijwr"
      },
      "outputs": [],
      "source": [
        "num_classes = len(pos2idx)\n",
        "input_dim = len(word2idx)\n",
        "output_dim = len(word2idx)"
      ]
    },
    {
      "cell_type": "code",
      "execution_count": 10,
      "metadata": {
        "id": "UClQHpFpijwr",
        "outputId": "672bb96b-e255-4faa-f5a4-915a8a20b2b1",
        "colab": {
          "base_uri": "https://localhost:8080/"
        }
      },
      "outputs": [
        {
          "output_type": "stream",
          "name": "stdout",
          "text": [
            "Model: \"sequential\"\n",
            "_________________________________________________________________\n",
            " Layer (type)                Output Shape              Param #   \n",
            "=================================================================\n",
            " embedding (Embedding)       (None, 10, 15)            225       \n",
            "                                                                 \n",
            " simple_rnn (SimpleRNN)      (None, 10, 10)            260       \n",
            "                                                                 \n",
            " time_distributed (TimeDistr  (None, 10, 8)            88        \n",
            " ibuted)                                                         \n",
            "                                                                 \n",
            "=================================================================\n",
            "Total params: 573\n",
            "Trainable params: 348\n",
            "Non-trainable params: 225\n",
            "_________________________________________________________________\n"
          ]
        }
      ],
      "source": [
        "from tensorflow.keras.models import Sequential\n",
        "from tensorflow.keras.layers import Embedding, TimeDistributed, Dense, SimpleRNN\n",
        "\n",
        "model = Sequential([\n",
        "    Embedding(input_dim=input_dim, output_dim=output_dim,\n",
        "              mask_zero=True, trainable=False, input_length=10,\n",
        "              embeddings_initializer=tf.keras.initializers.random_normal()),\n",
        "    SimpleRNN(units=10, return_sequences=True),\n",
        "    TimeDistributed(Dense(units=num_classes))\n",
        "])\n",
        "\n",
        "model.summary()"
      ]
    },
    {
      "cell_type": "code",
      "execution_count": 11,
      "metadata": {
        "id": "xLtMhf62ijwr"
      },
      "outputs": [],
      "source": [
        "def loss_fn(model, x, y, x_len, max_sequence):\n",
        "    masking = tf.sequence_mask(x_len, maxlen=max_sequence, dtype=tf.float32)\n",
        "    sequence_loss = tf.keras.losses.sparse_categorical_crossentropy(\n",
        "        y_true=y, y_pred=model(x), from_logits=True\n",
        "    ) * masking\n",
        "    sequence_loss = tf.reduce_mean(tf.reduce_sum(sequence_loss, axis=1) / x_len)\n",
        "    return sequence_loss\n",
        "\n",
        "optimizer = tf.keras.optimizers.Adam(learning_rate=0.1)"
      ]
    },
    {
      "cell_type": "code",
      "execution_count": 12,
      "metadata": {
        "id": "hCH18VuSijwr",
        "outputId": "09352693-c93d-41d3-98d4-d772fba11d67",
        "colab": {
          "base_uri": "https://localhost:8080/"
        }
      },
      "outputs": [
        {
          "output_type": "stream",
          "name": "stdout",
          "text": [
            "Epoch:   5, tr_loss: 0.674\n",
            "Epoch:  10, tr_loss: 0.254\n",
            "Epoch:  15, tr_loss: 0.128\n",
            "Epoch:  20, tr_loss: 0.059\n",
            "Epoch:  25, tr_loss: 0.026\n",
            "Epoch:  30, tr_loss: 0.010\n"
          ]
        }
      ],
      "source": [
        "tr_loss_hist = []\n",
        "\n",
        "for e in range(30):\n",
        "    avg_tr_loss = 0\n",
        "    tr_step = 0\n",
        "    \n",
        "    for x_mb, y_mb, x_mb_len in train_ds:\n",
        "        with tf.GradientTape() as tape:\n",
        "            tr_loss = loss_fn(model, x_mb, y_mb, x_mb_len, max_sequence=10)\n",
        "        grads = tape.gradient(tr_loss, model.trainable_variables)\n",
        "        optimizer.apply_gradients(grads_and_vars=zip(grads, model.trainable_variables))\n",
        "        avg_tr_loss += tr_loss\n",
        "        tr_step += 1\n",
        "    avg_tr_loss /= tr_step\n",
        "    tr_loss_hist.append(avg_tr_loss)\n",
        "    \n",
        "    if (e + 1) % 5 == 0:\n",
        "        print('Epoch: {:3}, tr_loss: {:.3f}'.format(e+1, avg_tr_loss))"
      ]
    },
    {
      "cell_type": "markdown",
      "metadata": {
        "id": "UJdChRiNijws"
      },
      "source": [
        "We trained the model with 0.003 loss. Then we can enter the X data into the model as an input."
      ]
    },
    {
      "cell_type": "code",
      "execution_count": 13,
      "metadata": {
        "id": "EAZ60e1Dijws",
        "outputId": "53c95a38-9842-44ec-ec97-a78376fd8fa6",
        "colab": {
          "base_uri": "https://localhost:8080/"
        }
      },
      "outputs": [
        {
          "output_type": "execute_result",
          "data": {
            "text/plain": [
              "array([[6., 7., 1., 0., 0., 0., 0., 0., 0., 0.],\n",
              "       [4., 7., 2., 1., 0., 0., 0., 0., 0., 0.],\n",
              "       [4., 7., 3., 4., 5., 1., 4., 0., 0., 0.],\n",
              "       [4., 7., 2., 1., 7., 0., 0., 0., 0., 0.]])"
            ]
          },
          "metadata": {},
          "execution_count": 13
        }
      ],
      "source": [
        "y_pred = model.predict(X)\n",
        "y_pred = np.argmax(y_pred, axis=-1) * X_mask\n",
        "\n",
        "y_pred"
      ]
    },
    {
      "cell_type": "code",
      "execution_count": 14,
      "metadata": {
        "id": "S3N41oBOijws",
        "outputId": "31a4b281-4570-4f69-bd7a-eb18314cfe9b",
        "colab": {
          "base_uri": "https://localhost:8080/"
        }
      },
      "outputs": [
        {
          "output_type": "stream",
          "name": "stdout",
          "text": [
            "[['pronoun',\n",
            "  'verb',\n",
            "  'adjective',\n",
            "  '<pad>',\n",
            "  '<pad>',\n",
            "  '<pad>',\n",
            "  '<pad>',\n",
            "  '<pad>',\n",
            "  '<pad>',\n",
            "  '<pad>'],\n",
            " ['noun',\n",
            "  'verb',\n",
            "  'adverb',\n",
            "  'adjective',\n",
            "  '<pad>',\n",
            "  '<pad>',\n",
            "  '<pad>',\n",
            "  '<pad>',\n",
            "  '<pad>',\n",
            "  '<pad>'],\n",
            " ['noun',\n",
            "  'verb',\n",
            "  'determiner',\n",
            "  'noun',\n",
            "  'preposition',\n",
            "  'adjective',\n",
            "  'noun',\n",
            "  '<pad>',\n",
            "  '<pad>',\n",
            "  '<pad>'],\n",
            " ['noun',\n",
            "  'verb',\n",
            "  'adverb',\n",
            "  'adjective',\n",
            "  'verb',\n",
            "  '<pad>',\n",
            "  '<pad>',\n",
            "  '<pad>',\n",
            "  '<pad>',\n",
            "  '<pad>']]\n",
            "[['pronoun', 'verb', 'adjective'],\n",
            " ['noun', 'verb', 'adverb', 'adjective'],\n",
            " ['noun', 'verb', 'determiner', 'noun', 'preposition', 'adjective', 'noun'],\n",
            " ['noun', 'verb', 'adverb', 'adjective', 'verb']]\n"
          ]
        }
      ],
      "source": [
        "from pprint import pprint\n",
        "\n",
        "y_pred_pos = list(map(lambda row: [idx2pos.get(elm) for elm in row], y_pred.astype(np.int32).tolist()))\n",
        "\n",
        "pprint(y_pred_pos)\n",
        "\n",
        "pprint(pos)"
      ]
    },
    {
      "cell_type": "code",
      "execution_count": 15,
      "metadata": {
        "id": "o0G5weiTijws",
        "outputId": "652ba0e1-f30a-45f9-b738-156f936c6bbc",
        "colab": {
          "base_uri": "https://localhost:8080/",
          "height": 281
        }
      },
      "outputs": [
        {
          "output_type": "display_data",
          "data": {
            "text/plain": [
              "<Figure size 432x288 with 1 Axes>"
            ],
            "image/png": "[encoded data removed]"
          },
          "metadata": {
            "needs_background": "light"
          }
        }
      ],
      "source": [
        "plt.figure()\n",
        "plt.plot(tr_loss_hist)\n",
        "plt.title('Training loss for many-to-many model')\n",
        "plt.show()"
      ]
    }
  ]
}