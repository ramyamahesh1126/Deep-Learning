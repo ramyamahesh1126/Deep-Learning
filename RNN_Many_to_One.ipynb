{
  "nbformat": 4,
  "nbformat_minor": 0,
  "metadata": {
    "colab": {
      "name": "RNN Many to One.ipynb",
      "provenance": [],
      "machine_shape": "hm",
      "authorship_tag": "ABX9TyNK6SDUIk5qA119I2HeuA6H",
      "include_colab_link": true
    },
    "kernelspec": {
      "name": "python3",
      "display_name": "Python 3"
    },
    "language_info": {
      "name": "python"
    },
    "accelerator": "GPU"
  },
  "cells": [
    {
      "cell_type": "markdown",
      "metadata": {
        "id": "view-in-github",
        "colab_type": "text"
      },
      "source": [
        "<a href=\"https://colab.research.google.com/github/ramyamahesh1126/Deep-Learning/blob/Assignment7/RNN_Many_to_One.ipynb\" target=\"_parent\"><img src=\"https://colab.research.google.com/assets/colab-badge.svg\" alt=\"Open In Colab\"/></a>"
      ]
    },
    {
      "cell_type": "markdown",
      "metadata": {
        "id": "DGibqkFvijB5"
      },
      "source": [
        "# RNN - Many-to-one\n",
        ">"
      ]
    },
    {
      "cell_type": "code",
      "execution_count": 1,
      "metadata": {
        "id": "dulhxD0tijB7",
        "outputId": "09bc1f19-b857-43ce-aca6-6bd0044dda9f",
        "colab": {
          "base_uri": "https://localhost:8080/"
        }
      },
      "outputs": [
        {
          "output_type": "stream",
          "name": "stdout",
          "text": [
            "Tensorflow: 2.8.0\n"
          ]
        }
      ],
      "source": [
        "import tensorflow as tf\n",
        "import numpy as np\n",
        "import matplotlib.pyplot as plt\n",
        "import pandas as pd\n",
        "\n",
        "print('Tensorflow: {}'.format(tf.__version__))\n",
        "\n",
        "plt.rcParams['figure.figsize'] = (16, 10)\n",
        "plt.rc('font', size=15)"
      ]
    },
    {
      "cell_type": "markdown",
      "metadata": {
        "id": "oC-oHE85ijB8"
      },
      "source": [
        "## Various usage of RNN\n",
        "RNN is used for sequence data handling. And there are several types of RNN architecture."
      ]
    },
    {
      "cell_type": "markdown",
      "metadata": {
        "id": "B_hsOoh1ijB8"
      },
      "source": [
        "## Many-to-one\n",
        "\n",
        "**Many-to-one** type, gets an sequence data as an input and generates some informatic data like labels. So we can use it for classification. Suppose that someone defines the sentiment of each sentence, and train the model with many-to-one type. And when the model gets the unseen sentence, then it will predict the intention of sentence, good or bad.\n",
        "\n"
      ]
    },
    {
      "cell_type": "markdown",
      "metadata": {
        "id": "OSxbGN2qijB8"
      },
      "source": [
        "## Example - Word sentiment classification\n",
        "\n"
      ]
    },
    {
      "cell_type": "code",
      "execution_count": 2,
      "metadata": {
        "id": "opbQtaSqijB9"
      },
      "outputs": [],
      "source": [
        "words = ['good', 'bad', 'worse', 'so good']\n",
        "y = [1, 0, 0, 1]"
      ]
    },
    {
      "cell_type": "code",
      "execution_count": 3,
      "metadata": {
        "id": "iN96mvUTijB9"
      },
      "outputs": [],
      "source": [
        "char_set = ['<pad>'] + sorted(list(set(''.join(words))))\n",
        "idx2char = {idx:char for idx, char in enumerate(char_set)}\n",
        "char2idx = {char:idx for idx, char in enumerate(char_set)}"
      ]
    },
    {
      "cell_type": "code",
      "execution_count": 4,
      "metadata": {
        "id": "kFYfpwKAijB-",
        "outputId": "f248468d-2e51-440f-a9fb-32b1afac06fa",
        "colab": {
          "base_uri": "https://localhost:8080/"
        }
      },
      "outputs": [
        {
          "output_type": "execute_result",
          "data": {
            "text/plain": [
              "['<pad>', ' ', 'a', 'b', 'd', 'e', 'g', 'o', 'r', 's', 'w']"
            ]
          },
          "metadata": {},
          "execution_count": 4
        }
      ],
      "source": [
        "char_set"
      ]
    },
    {
      "cell_type": "code",
      "execution_count": 5,
      "metadata": {
        "id": "a4rC0Nx4ijB-",
        "outputId": "09f9d3b4-fb60-49f8-8cea-2bee8c6e31cb",
        "colab": {
          "base_uri": "https://localhost:8080/"
        }
      },
      "outputs": [
        {
          "output_type": "execute_result",
          "data": {
            "text/plain": [
              "{0: '<pad>',\n",
              " 1: ' ',\n",
              " 2: 'a',\n",
              " 3: 'b',\n",
              " 4: 'd',\n",
              " 5: 'e',\n",
              " 6: 'g',\n",
              " 7: 'o',\n",
              " 8: 'r',\n",
              " 9: 's',\n",
              " 10: 'w'}"
            ]
          },
          "metadata": {},
          "execution_count": 5
        }
      ],
      "source": [
        "idx2char"
      ]
    },
    {
      "cell_type": "code",
      "execution_count": 6,
      "metadata": {
        "id": "2IsjowVYijB-",
        "outputId": "caf41854-549b-4c5a-c761-857f40fb9372",
        "colab": {
          "base_uri": "https://localhost:8080/"
        }
      },
      "outputs": [
        {
          "output_type": "execute_result",
          "data": {
            "text/plain": [
              "{' ': 1,\n",
              " '<pad>': 0,\n",
              " 'a': 2,\n",
              " 'b': 3,\n",
              " 'd': 4,\n",
              " 'e': 5,\n",
              " 'g': 6,\n",
              " 'o': 7,\n",
              " 'r': 8,\n",
              " 's': 9,\n",
              " 'w': 10}"
            ]
          },
          "metadata": {},
          "execution_count": 6
        }
      ],
      "source": [
        "char2idx"
      ]
    },
    {
      "cell_type": "code",
      "execution_count": 7,
      "metadata": {
        "id": "PePbdVTmijB_"
      },
      "outputs": [],
      "source": [
        "X = list(map(lambda word: [char2idx.get(char) for char in word], words))\n",
        "X_len = list(map(lambda word: len(word), X))"
      ]
    },
    {
      "cell_type": "code",
      "execution_count": 8,
      "metadata": {
        "id": "P7p-62mtijB_",
        "outputId": "7be4e951-5bcd-4984-8193-9f447a1be3a0",
        "colab": {
          "base_uri": "https://localhost:8080/"
        }
      },
      "outputs": [
        {
          "output_type": "execute_result",
          "data": {
            "text/plain": [
              "[[6, 7, 7, 4], [3, 2, 4], [10, 7, 8, 9, 5], [9, 7, 1, 6, 7, 7, 4]]"
            ]
          },
          "metadata": {},
          "execution_count": 8
        }
      ],
      "source": [
        "X"
      ]
    },
    {
      "cell_type": "code",
      "execution_count": 9,
      "metadata": {
        "id": "26cVdJx0ijB_",
        "outputId": "91916ab5-b5d5-46ef-dc19-4408adad7842",
        "colab": {
          "base_uri": "https://localhost:8080/"
        }
      },
      "outputs": [
        {
          "output_type": "execute_result",
          "data": {
            "text/plain": [
              "[4, 3, 5, 7]"
            ]
          },
          "metadata": {},
          "execution_count": 9
        }
      ],
      "source": [
        "X_len"
      ]
    },
    {
      "cell_type": "code",
      "execution_count": 10,
      "metadata": {
        "id": "da7GB2r2ijB_"
      },
      "outputs": [],
      "source": [
        "from tensorflow.keras.preprocessing.sequence import pad_sequences\n",
        "\n",
        "# Padding the sequence of indices\n",
        "max_sequence=10\n",
        "\n",
        "X = pad_sequences(X, maxlen=max_sequence, padding='post', truncating='post')"
      ]
    },
    {
      "cell_type": "code",
      "execution_count": 11,
      "metadata": {
        "id": "UDKqMVOQijB_",
        "outputId": "776222f4-7193-4422-e16f-e390e9f9a278",
        "colab": {
          "base_uri": "https://localhost:8080/"
        }
      },
      "outputs": [
        {
          "output_type": "execute_result",
          "data": {
            "text/plain": [
              "array([[ 6,  7,  7,  4,  0,  0,  0,  0,  0,  0],\n",
              "       [ 3,  2,  4,  0,  0,  0,  0,  0,  0,  0],\n",
              "       [10,  7,  8,  9,  5,  0,  0,  0,  0,  0],\n",
              "       [ 9,  7,  1,  6,  7,  7,  4,  0,  0,  0]], dtype=int32)"
            ]
          },
          "metadata": {},
          "execution_count": 11
        }
      ],
      "source": [
        "X"
      ]
    },
    {
      "cell_type": "code",
      "execution_count": 12,
      "metadata": {
        "id": "E2iuEdvJijB_",
        "outputId": "21488fc4-7582-45ab-ee76-34fb7b727e97",
        "colab": {
          "base_uri": "https://localhost:8080/"
        }
      },
      "outputs": [
        {
          "output_type": "execute_result",
          "data": {
            "text/plain": [
              "[1, 0, 0, 1]"
            ]
          },
          "metadata": {},
          "execution_count": 12
        }
      ],
      "source": [
        "y"
      ]
    },
    {
      "cell_type": "code",
      "execution_count": 13,
      "metadata": {
        "id": "qKdYpKEOijCA",
        "outputId": "13d7f1ea-2c4c-46ac-9e5a-38924c81ed0a",
        "colab": {
          "base_uri": "https://localhost:8080/"
        }
      },
      "outputs": [
        {
          "output_type": "stream",
          "name": "stdout",
          "text": [
            "<BatchDataset element_spec=(TensorSpec(shape=(None, 10), dtype=tf.int32, name=None), TensorSpec(shape=(None,), dtype=tf.int32, name=None))>\n"
          ]
        }
      ],
      "source": [
        "# Generate data pipeline\n",
        "train_ds = tf.data.Dataset.from_tensor_slices((X, y)).shuffle(buffer_size=4).batch(batch_size=2)\n",
        "print(train_ds)"
      ]
    },
    {
      "cell_type": "markdown",
      "metadata": {
        "id": "AECZOJScijCA"
      },
      "source": [
        "After that, we can build many-to-one model with simpleRNN."
      ]
    },
    {
      "cell_type": "code",
      "execution_count": 14,
      "metadata": {
        "id": "LUhCzVOcijCA"
      },
      "outputs": [],
      "source": [
        "input_dim = len(char2idx)\n",
        "output_dim = len(char2idx)"
      ]
    },
    {
      "cell_type": "code",
      "execution_count": 15,
      "metadata": {
        "id": "sA4R-QabijCA",
        "outputId": "d2780fc3-bb11-40b8-e497-ed5a5419e2ab",
        "colab": {
          "base_uri": "https://localhost:8080/"
        }
      },
      "outputs": [
        {
          "output_type": "stream",
          "name": "stdout",
          "text": [
            "Model: \"sequential\"\n",
            "_________________________________________________________________\n",
            " Layer (type)                Output Shape              Param #   \n",
            "=================================================================\n",
            " embedding (Embedding)       (None, 10, 11)            121       \n",
            "                                                                 \n",
            " simple_rnn (SimpleRNN)      (None, 10)                220       \n",
            "                                                                 \n",
            " dense (Dense)               (None, 2)                 22        \n",
            "                                                                 \n",
            "=================================================================\n",
            "Total params: 363\n",
            "Trainable params: 242\n",
            "Non-trainable params: 121\n",
            "_________________________________________________________________\n"
          ]
        }
      ],
      "source": [
        "from tensorflow.keras.models import Sequential\n",
        "from tensorflow.keras.layers import Embedding, SimpleRNN, Dense\n",
        "\n",
        "model = Sequential([\n",
        "    Embedding(input_dim=input_dim, output_dim=output_dim,\n",
        "              mask_zero=True, input_length=max_sequence,\n",
        "              trainable=False, embeddings_initializer=tf.keras.initializers.random_normal()),\n",
        "    SimpleRNN(units=10),\n",
        "    Dense(2)\n",
        "])\n",
        "\n",
        "model.summary()"
      ]
    },
    {
      "cell_type": "code",
      "execution_count": 16,
      "metadata": {
        "id": "mNpcDzONijCB"
      },
      "outputs": [],
      "source": [
        "def loss_fn(model, X, y):\n",
        "    return tf.reduce_mean(tf.keras.losses.sparse_categorical_crossentropy(y_true=y, \n",
        "                                                                          y_pred=model(X), \n",
        "                                                                          from_logits=True))\n",
        "\n",
        "optimizer = tf.keras.optimizers.Adam(learning_rate=0.01)"
      ]
    },
    {
      "cell_type": "code",
      "execution_count": 17,
      "metadata": {
        "id": "NrA7wdXQijCB",
        "outputId": "8994fe48-e063-415a-84c5-aa80f33b904e",
        "colab": {
          "base_uri": "https://localhost:8080/"
        }
      },
      "outputs": [
        {
          "output_type": "stream",
          "name": "stdout",
          "text": [
            "epoch:   5, tr_loss: 0.266653\n",
            "epoch:  10, tr_loss: 0.030162\n",
            "epoch:  15, tr_loss: 0.006671\n",
            "epoch:  20, tr_loss: 0.003246\n",
            "epoch:  25, tr_loss: 0.002178\n",
            "epoch:  30, tr_loss: 0.001705\n"
          ]
        }
      ],
      "source": [
        "tr_loss_hist = []\n",
        "\n",
        "for e in range(30):\n",
        "    avg_tr_loss = 0\n",
        "    tr_step = 0\n",
        "    \n",
        "    for x_mb, y_mb in train_ds:\n",
        "        with tf.GradientTape() as tape:\n",
        "            tr_loss = loss_fn(model, x_mb, y_mb)\n",
        "            \n",
        "        grads = tape.gradient(tr_loss, sources=model.variables)\n",
        "        optimizer.apply_gradients(grads_and_vars=zip(grads, model.variables))\n",
        "        avg_tr_loss += tr_loss\n",
        "        tr_step += 1\n",
        "    \n",
        "    avg_tr_loss /= tr_step\n",
        "    tr_loss_hist.append(avg_tr_loss)\n",
        "    \n",
        "    if (e + 1) % 5 == 0:\n",
        "        print('epoch: {:3}, tr_loss: {:3f}'.format(e + 1, avg_tr_loss))"
      ]
    },
    {
      "cell_type": "markdown",
      "metadata": {
        "id": "FVRZ4BmGijCB"
      },
      "source": [
        "Check the performance of this simple rnn network"
      ]
    },
    {
      "cell_type": "code",
      "execution_count": 18,
      "metadata": {
        "id": "uQNCJw4pijCB"
      },
      "outputs": [],
      "source": [
        "y_pred = model.predict(X)\n",
        "y_pred = np.argmax(y_pred, axis=-1)"
      ]
    },
    {
      "cell_type": "code",
      "execution_count": 19,
      "metadata": {
        "id": "CJvvYdj8ijCB",
        "outputId": "1fa912d4-5e62-41f0-b48b-9309c5127c10",
        "colab": {
          "base_uri": "https://localhost:8080/"
        }
      },
      "outputs": [
        {
          "output_type": "stream",
          "name": "stdout",
          "text": [
            "acc: 100.00%\n"
          ]
        }
      ],
      "source": [
        "print('acc: {:.2%}'.format(np.mean(y_pred == y)))"
      ]
    },
    {
      "cell_type": "code",
      "execution_count": 20,
      "metadata": {
        "id": "-2v_kFBPijCB",
        "outputId": "a284ce5f-e98e-49e9-f97a-dd14782d13bf",
        "colab": {
          "base_uri": "https://localhost:8080/",
          "height": 265
        }
      },
      "outputs": [
        {
          "output_type": "display_data",
          "data": {
            "text/plain": [
              "<Figure size 432x288 with 1 Axes>"
            ],
            "image/png": "[encoded data removed]"
          },
          "metadata": {
            "needs_background": "light"
          }
        }
      ],
      "source": [
        "plt.figure()\n",
        "plt.plot(tr_loss_hist)\n",
        "plt.show()"
      ]
    }
  ]
}